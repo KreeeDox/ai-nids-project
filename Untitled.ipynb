{
 "cells": [
  {
   "cell_type": "code",
   "execution_count": 1,
   "id": "d1ddb77b-3841-4a9e-8a4d-5a2e62ac90f2",
   "metadata": {},
   "outputs": [
    {
     "name": "stdout",
     "output_type": "stream",
     "text": [
      "Simulated Data Created and Saved: 10000 rows.\n",
      "Features (X) shape: (10000, 11)\n",
      "Target Distribution (0=Normal, 1=Attack):\n",
      "Binary_Label\n",
      "0    9000\n",
      "1    1000\n",
      "Name: count, dtype: int64\n"
     ]
    }
   ],
   "source": [
    "import pandas as pd\n",
    "import numpy as np\n",
    "import joblib\n",
    "from sklearn.model_selection import train_test_split\n",
    "from sklearn.ensemble import IsolationForest\n",
    "from sklearn.metrics import classification_report, accuracy_score\n",
    "\n",
    "# --- Define Simulated Data Structure ---\n",
    "# These are key feature names from the real CICIDS2017 dataset\n",
    "feature_names = [\n",
    "    'Destination Port', 'Flow Duration', 'Total Fwd Packets', \n",
    "    'Total Backward Packets', 'Total Length of Fwd Packets', \n",
    "    'Total Length of Bwd Packets', 'Flow IAT Mean', 'Fwd IAT Std', \n",
    "    'Fwd Header Length', 'Subflow Fwd Packets', 'Subflow Bwd Bytes'\n",
    "]\n",
    "N = 10000  # Number of simulated rows\n",
    "\n",
    "# Generate random numerical data for the features\n",
    "data = {}\n",
    "for col in feature_names:\n",
    "    data[col] = np.random.rand(N) * 1000\n",
    "\n",
    "# Create the target variable (Binary_Label)\n",
    "# We assume about 90% is Normal (0) and 10% is Attack (1)\n",
    "labels = np.random.choice([0, 1], size=N, p=[0.9, 0.1])\n",
    "data['Binary_Label'] = labels\n",
    "\n",
    "# Create the DataFrame and define X (Features), Y (Target)\n",
    "df_simulated = pd.DataFrame(data)\n",
    "X = df_simulated.drop(columns=['Binary_Label']).astype('float32')\n",
    "Y = df_simulated['Binary_Label']\n",
    "\n",
    "# Save the simulated data. The deployment script will read this file.\n",
    "df_simulated.to_csv('simulated_traffic_data.csv', index=False)\n",
    "\n",
    "print(f\"Simulated Data Created and Saved: {len(df_simulated)} rows.\")\n",
    "print(f\"Features (X) shape: {X.shape}\")\n",
    "print(\"Target Distribution (0=Normal, 1=Attack):\")\n",
    "print(Y.value_counts())"
   ]
  },
  {
   "cell_type": "code",
   "execution_count": 3,
   "id": "ab64df98-ab5f-4431-8b93-53c0bbfdc005",
   "metadata": {},
   "outputs": [
    {
     "name": "stdout",
     "output_type": "stream",
     "text": [
      "Training on 6273 'Normal' samples...\n",
      "Starting Isolation Forest training...\n",
      "\n",
      "--- Model Performance (Anomaly Detector) ---\n",
      "Overall Accuracy: 0.8203\n",
      "Classification Report (Focus on Recall for 'Attack'):\n",
      "              precision    recall  f1-score   support\n",
      "\n",
      "  Normal (0)       0.90      0.90      0.90      2711\n",
      "  Attack (1)       0.10      0.10      0.10       289\n",
      "\n",
      "    accuracy                           0.82      3000\n",
      "   macro avg       0.50      0.50      0.50      3000\n",
      "weighted avg       0.83      0.82      0.82      3000\n",
      "\n",
      "\n",
      "Model saved successfully as 'nids_anomaly_detector_model.pkl'\n"
     ]
    }
   ],
   "source": [
    "# 1. Split Data into Training and Testing Sets\n",
    "# We reserve 30% (3000 rows) of the data to test the model on unseen traffic\n",
    "X_train, X_test, Y_train, Y_test = train_test_split(X, Y, test_size=0.3, random_state=42)\n",
    "\n",
    "# 2. Filter for Normal Traffic (Crucial for Anomaly Detection)\n",
    "# The model only learns the patterns of GOOD traffic (Label 0)\n",
    "X_train_normal = X_train[Y_train == 0]\n",
    "print(f\"Training on {len(X_train_normal)} 'Normal' samples...\")\n",
    "\n",
    "# 3. Model Initialization and Training\n",
    "model_if = IsolationForest(\n",
    "    n_estimators=100, \n",
    "    contamination=0.1, # Matches our simulated 10% anomaly rate\n",
    "    random_state=42, \n",
    "    n_jobs=-1 # Uses all CPU cores for speed\n",
    ")\n",
    "\n",
    "print(\"Starting Isolation Forest training...\")\n",
    "model_if.fit(X_train_normal)\n",
    "\n",
    "# 4. Model Evaluation\n",
    "# Predict on the full test set\n",
    "Y_pred_if = model_if.predict(X_test)\n",
    "\n",
    "# Convert Isolation Forest output (1=Normal, -1=Anomaly) to Binary (0=Normal, 1=Attack)\n",
    "Y_pred_binary = np.where(Y_pred_if == -1, 1, 0)\n",
    "\n",
    "# Display Performance Metrics\n",
    "print(\"\\n--- Model Performance (Anomaly Detector) ---\")\n",
    "print(f\"Overall Accuracy: {accuracy_score(Y_test, Y_pred_binary):.4f}\")\n",
    "print(\"Classification Report (Focus on Recall for 'Attack'):\")\n",
    "print(classification_report(Y_test, Y_pred_binary, target_names=['Normal (0)', 'Attack (1)']))\n",
    "\n",
    "# 5. Save the Trained Model\n",
    "# This creates the deployable file the 'realtime_detector.py' will load\n",
    "joblib.dump(model_if, 'nids_anomaly_detector_model.pkl')\n",
    "print(\"\\nModel saved successfully as 'nids_anomaly_detector_model.pkl'\")"
   ]
  },
  {
   "cell_type": "code",
   "execution_count": null,
   "id": "7a621037-9d7c-466a-8aa0-d9b9d5a24c72",
   "metadata": {},
   "outputs": [],
   "source": []
  }
 ],
 "metadata": {
  "kernelspec": {
   "display_name": "Python 3 (ipykernel)",
   "language": "python",
   "name": "python3"
  },
  "language_info": {
   "codemirror_mode": {
    "name": "ipython",
    "version": 3
   },
   "file_extension": ".py",
   "mimetype": "text/x-python",
   "name": "python",
   "nbconvert_exporter": "python",
   "pygments_lexer": "ipython3",
   "version": "3.13.7"
  }
 },
 "nbformat": 4,
 "nbformat_minor": 5
}
